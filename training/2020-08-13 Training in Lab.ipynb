{
 "cells": [
  {
   "cell_type": "markdown",
   "metadata": {},
   "source": [
    "# 설명"
   ]
  },
  {
   "cell_type": "markdown",
   "metadata": {},
   "source": [
    "* 항목 1 \n",
    "* 항목 2\n",
    "    * 항목 3\n",
    "        * 항목 4\n",
    "\n",
    "*오늘은* **주피터**에 대해서 배운다\n",
    "\n",
    "* [네이버](http://www.naver.com)\n",
    "* [구글](www.google.com)\n",
    "\n",
    "0. djlkf\n",
    "0. dkjfl\n",
    "0. 2kl35j\n",
    "\n",
    "1. dklfkl\n",
    "1. lkjjej\n",
    "1. dklekj"
   ]
  },
  {
   "cell_type": "code",
   "execution_count": 18,
   "metadata": {},
   "outputs": [],
   "source": [
    "import os"
   ]
  },
  {
   "cell_type": "code",
   "execution_count": 19,
   "metadata": {},
   "outputs": [
    {
     "data": {
      "text/plain": [
       "'C:\\\\Users\\\\LG\\\\training'"
      ]
     },
     "execution_count": 19,
     "metadata": {},
     "output_type": "execute_result"
    }
   ],
   "source": [
    "os.getcwd()"
   ]
  },
  {
   "cell_type": "code",
   "execution_count": null,
   "metadata": {},
   "outputs": [],
   "source": [
    "# 문자입력을 받고 \n",
    "input_value = input('문자입력해')\n",
    "# 그 값을 숫자로 바꿔서\n",
    "input_value2 = int(input_value)\n",
    "# 그 값을 10과 비교해서 \n",
    "if input_value > 10:\n",
    "    print(\"크다\")\n",
    "# 크면 크다 작으면 작다라고 하자.\n",
    "else :\n",
    "    print(\"작다\")"
   ]
  },
  {
   "cell_type": "code",
   "execution_count": null,
   "metadata": {},
   "outputs": [],
   "source": [
    "# 구글 유튜브 주소를 입력받자\n",
    "## 입력받을까?\n",
    "## 데이터 파일을 읽을까?\n",
    "address = input('유튜브 주소를 입력하시오')\n",
    "# 그 주소를 이용해서 구글에게 데이터를 달라고 하자\n",
    "# 데이터를 처리하기 위해 새로 comment 객체를 쓰자\n",
    "# 데이터는 우리가 나중에 엑셀로 처리해야 하니 pandas로 바꾸자\n",
    "# 웹 ㅍ로그램으로 하나하나 하도록 하자"
   ]
  }
 ],
 "metadata": {},
 "nbformat": 4,
 "nbformat_minor": 4
}
