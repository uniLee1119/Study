{
 "cells": [
  {
   "cell_type": "code",
   "execution_count": null,
   "metadata": {},
   "outputs": [],
   "source": [
    "# 피보나치 수열\n",
    "def fi(n) :\n",
    "    if n == 0 : return 0\n",
    "    if n == 1 : return 1\n",
    "    return fi(n-2) + fi(n-1)"
   ]
  },
  {
   "cell_type": "code",
   "execution_count": null,
   "metadata": {},
   "outputs": [],
   "source": [
    "for i in range(10) :\n",
    "    print (fi(i))"
   ]
  },
  {
   "cell_type": "code",
   "execution_count": null,
   "metadata": {},
   "outputs": [],
   "source": [
    "def sumfi(n) :\n",
    "    if n ==0 : return fi(0)\n",
    "    if n ==1 :"
   ]
  },
  {
   "cell_type": "code",
   "execution_count": null,
   "metadata": {},
   "outputs": [],
   "source": [
    "def grading():\n",
    "    score = input(\"성적입력 : \")\n",
    "    score = eval(score)\n",
    "    score_result =[]\n",
    "    for s in score:\n",
    "        result =''\n",
    "        if s >=90:\n",
    "            result=\"A\"\n",
    "        elif s >= 80:\n",
    "            result=\"B\"\n",
    "        elif s>=70:\n",
    "            result=\"C\"\n",
    "        elif s>=60:\n",
    "            result=\"D\"\n",
    "        else:\n",
    "            result=\"F\"\n",
    "        score_result.append(result)\n",
    "    return score_result\n",
    "\n"
   ]
  },
  {
   "cell_type": "code",
   "execution_count": null,
   "metadata": {},
   "outputs": [],
   "source": [
    "grading()"
   ]
  },
  {
   "cell_type": "code",
   "execution_count": 2,
   "metadata": {},
   "outputs": [
    {
     "name": "stdout",
     "output_type": "stream",
     "text": [
      "166833\n"
     ]
    }
   ],
   "source": [
    "a= 0\n",
    "add =0\n",
    "while a <1001:\n",
    "    a = a+1\n",
    "    if a%3 ==0:\n",
    "        add = add +a\n",
    "print(add)"
   ]
  },
  {
   "cell_type": "code",
   "execution_count": 3,
   "metadata": {},
   "outputs": [],
   "source": [
    "i = list(range(1,1001))"
   ]
  },
  {
   "cell_type": "code",
   "execution_count": 4,
   "metadata": {},
   "outputs": [
    {
     "data": {
      "text/plain": [
       "[1, 2, 3, 4, 5, 6, 7, 8, 9, 10]"
      ]
     },
     "execution_count": 4,
     "metadata": {},
     "output_type": "execute_result"
    }
   ],
   "source": [
    "i[:10]"
   ]
  },
  {
   "cell_type": "code",
   "execution_count": 5,
   "metadata": {},
   "outputs": [
    {
     "name": "stdout",
     "output_type": "stream",
     "text": [
      "166833\n"
     ]
    }
   ],
   "source": [
    "cnt=0\n",
    "add=0\n",
    "while cnt<1000:\n",
    "    if i[cnt] % 3 == 0:\n",
    "           add+=i[cnt]\n",
    "    cnt+=1\n",
    "print(add)"
   ]
  },
  {
   "cell_type": "code",
   "execution_count": 15,
   "metadata": {},
   "outputs": [
    {
     "name": "stdout",
     "output_type": "stream",
     "text": [
      "*\n",
      "**\n",
      "***\n",
      "****\n",
      "*****\n"
     ]
    }
   ],
   "source": [
    "i =0 \n",
    "while True :\n",
    "    i = i+1\n",
    "    if i >5:\n",
    "        break\n",
    "    print('*'*i) # python의 특징"
   ]
  },
  {
   "cell_type": "code",
   "execution_count": null,
   "metadata": {},
   "outputs": [],
   "source": []
  }
 ],
 "metadata": {
  "kernelspec": {
   "display_name": "Python 3",
   "language": "python",
   "name": "python3"
  },
  "language_info": {
   "codemirror_mode": {
    "name": "ipython",
    "version": 3
   },
   "file_extension": ".py",
   "mimetype": "text/x-python",
   "name": "python",
   "nbconvert_exporter": "python",
   "pygments_lexer": "ipython3",
   "version": "3.8.2"
  }
 },
 "nbformat": 4,
 "nbformat_minor": 4
}
